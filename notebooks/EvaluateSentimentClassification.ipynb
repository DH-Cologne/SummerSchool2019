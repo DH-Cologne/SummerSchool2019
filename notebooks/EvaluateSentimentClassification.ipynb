{
 "cells": [
  {
   "cell_type": "markdown",
   "metadata": {},
   "source": [
    "# Evaluate on Test Data"
   ]
  },
  {
   "cell_type": "code",
   "execution_count": null,
   "metadata": {},
   "outputs": [],
   "source": [
    "import pandas as pd\n",
    "import numpy as np\n",
    "import pickle\n",
    "from pathlib import Path\n",
    "\n",
    "from sklearn.preprocessing import LabelBinarizer\n",
    "import keras.models as models\n",
    "import sklearn.datasets as skds\n",
    "from sklearn import metrics"
   ]
  },
  {
   "cell_type": "markdown",
   "metadata": {},
   "source": [
    "## Load Model and Tokenizer"
   ]
  },
  {
   "cell_type": "markdown",
   "metadata": {},
   "source": [
    "Load Tokenizer and Neural Net which produced the best results on the training data."
   ]
  },
  {
   "cell_type": "code",
   "execution_count": null,
   "metadata": {},
   "outputs": [],
   "source": [
    "tokenizer_file = 'resources/tokenizer/tokenizer.pickle' # insert here the tokenizer you want to evaluate\n",
    "mode = 'binary'# insert here the weighting mode you used for vectorization\n",
    "model_file = 'resources/models/smallModel.h5' # insert here the neural network you want to evaluate"
   ]
  },
  {
   "cell_type": "code",
   "execution_count": null,
   "metadata": {},
   "outputs": [],
   "source": [
    "with open(tokenizer_file, 'rb') as handle:\n",
    "    tokenizer = pickle.load(handle)\n",
    "\n",
    "classifier = models.load_model(model_file)"
   ]
  },
  {
   "cell_type": "markdown",
   "metadata": {},
   "source": [
    "Load the test data and preprocess them like you did with the training data."
   ]
  },
  {
   "cell_type": "code",
   "execution_count": null,
   "metadata": {},
   "outputs": [],
   "source": [
    "path_test = \"./resources/aclImdb/test\"\n",
    "labels = [\"pos\", \"neg\"] # contains all category labels that we want to classify\n",
    "num_labels = 2 # number of labels\n",
    "\n",
    "files_test = skds.load_files(path_test,load_content=False, categories=labels, encoding=\"UTF-8\")\n",
    "\n",
    "file_paths = files_test.filenames\n",
    "label_names = files_test.target_names\n",
    "labelled_files_index = files_test.target"
   ]
  },
  {
   "cell_type": "code",
   "execution_count": null,
   "metadata": {},
   "outputs": [],
   "source": [
    "data_list = []\n",
    "\n",
    "for i, file in enumerate(file_paths):\n",
    "    label_name = label_names[labelled_files_index[i]]\n",
    "    content = Path(file).read_text(encoding=\"UTF-8\")\n",
    "    data_list.append((file,label_name,content))"
   ]
  },
  {
   "cell_type": "code",
   "execution_count": null,
   "metadata": {},
   "outputs": [],
   "source": [
    "data_tags=[\"filename\",\"category\",\"review\"]\n",
    "data = pd.DataFrame.from_records(data_list, columns=data_tags)\n",
    "data.head()"
   ]
  },
  {
   "cell_type": "code",
   "execution_count": null,
   "metadata": {},
   "outputs": [],
   "source": [
    "test_reviews = data['review']\n",
    "test_tags = data['category']\n",
    "test_file_names = data['filename']\n",
    "\n",
    "encoder = LabelBinarizer()\n",
    "encoder.fit(test_tags)\n",
    "\n",
    "## take the same tokenizer as for training\n",
    "x_test = tokenizer.texts_to_matrix(test_reviews, mode=mode)\n",
    "y_test = encoder.transform(test_tags)"
   ]
  },
  {
   "cell_type": "markdown",
   "metadata": {},
   "source": [
    "***\n",
    "\n",
    "Now, we [predict](https://keras.io/models/model/#predict) labels for all test reviews. If the probability for a positive review is more than 0.5, \"pos\" will be assigned."
   ]
  },
  {
   "cell_type": "code",
   "execution_count": null,
   "metadata": {},
   "outputs": [],
   "source": [
    "probs = classifier.predict(x_test)\n",
    "y_classified = ['pos' if x > 0.5 else 'neg' for x in probs]\n",
    "\n",
    "y_true = list(encoder.inverse_transform(y_test)) #transform true encoded categories (0 and 1) to labels (neg and pos)\n",
    "\n",
    "print(y_classified[:10]) #print first 10 predictions and true labels\n",
    "print(y_true[:10])"
   ]
  },
  {
   "cell_type": "markdown",
   "metadata": {},
   "source": [
    "We create a [confusion matrix](https://scikit-learn.org/stable/modules/generated/sklearn.metrics.confusion_matrix.html) to compare all predicted labels(y_classified) with the true labels(y_true)."
   ]
  },
  {
   "cell_type": "code",
   "execution_count": null,
   "metadata": {},
   "outputs": [],
   "source": [
    "cm = metrics.confusion_matrix(y_true, y_classified, labels=[\"neg\", \"pos\"])\n",
    "cm"
   ]
  },
  {
   "cell_type": "markdown",
   "metadata": {},
   "source": [
    "The confusion matrix gives us all values for further evaluation computations."
   ]
  },
  {
   "cell_type": "code",
   "execution_count": null,
   "metadata": {},
   "outputs": [],
   "source": [
    "tn, fp, fn, tp = cm.ravel()\n",
    "pre = metrics.precision_score(y_true, y_classified, pos_label='pos')\n",
    "rec = metrics.recall_score(y_true, y_classified, pos_label='pos')\n",
    "print(\"TN, FP, FN, TP \", (tn, fp, fn, tp))\n",
    "print(\"Precision \", pre)\n",
    "print(\"Recall \", rec)"
   ]
  },
  {
   "cell_type": "markdown",
   "metadata": {},
   "source": [
    "You can also use [Keras](https://keras.io/models/model/#evaluate) to compute the model's accuracy."
   ]
  },
  {
   "cell_type": "code",
   "execution_count": null,
   "metadata": {},
   "outputs": [],
   "source": [
    "result = classifier.evaluate(x_test, y_test,\n",
    "                    batch_size=100,\n",
    "                    verbose=1)\n",
    "\n",
    "print(classifier.metrics_names)\n",
    "print(result)"
   ]
  }
 ],
 "metadata": {
  "kernelspec": {
   "display_name": "Python 3",
   "language": "python",
   "name": "python3"
  },
  "language_info": {
   "codemirror_mode": {
    "name": "ipython",
    "version": 3
   },
   "file_extension": ".py",
   "mimetype": "text/x-python",
   "name": "python",
   "nbconvert_exporter": "python",
   "pygments_lexer": "ipython3",
   "version": "3.7.3"
  }
 },
 "nbformat": 4,
 "nbformat_minor": 2
}
